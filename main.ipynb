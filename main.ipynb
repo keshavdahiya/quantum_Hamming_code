{
 "cells": [
  {
   "cell_type": "markdown",
   "id": "a148cfd3",
   "metadata": {},
   "source": [
    "# Quantum Hamming code under random Pauli error"
   ]
  },
  {
   "cell_type": "code",
   "execution_count": 70,
   "id": "8d79cc19",
   "metadata": {},
   "outputs": [],
   "source": [
    "from qiskit.circuit import QuantumCircuit, QuantumRegister, AncillaRegister, ClassicalRegister\n",
    "from qiskit_aer import AerSimulator\n",
    "from qiskit import transpile\n",
    "\n",
    "import numpy as np\n",
    "import matplotlib.pyplot as plt"
   ]
  },
  {
   "cell_type": "markdown",
   "id": "302494cb",
   "metadata": {},
   "source": [
    "## Pauli channel\n",
    "\n",
    "A Pauli channel with error probability $p$ means that for each qubit, an $X$, $Y$ or $Z$ error is applied with probability $p$. Thus, we must have $0\\le p\\le \\frac{1}{3}$. Therefore we have \n",
    "$$\\begin{aligned}\n",
    "& \\text{Probability}(X \\text{ error}) = \\text{Probability}(Y \\text{ error}) = \\text{Probability}(Z \\text{ error}) = p\\ , \\\\\n",
    "& \\text{Probability}(\\text{no error}) = 1-3p\\ .\n",
    "\\end{aligned}$$"
   ]
  },
  {
   "cell_type": "code",
   "execution_count": 169,
   "id": "1eaca97e",
   "metadata": {},
   "outputs": [],
   "source": [
    "def pauli_channel(p):\n",
    "    qx = QuantumRegister(1)\n",
    "    qc = QuantumCircuit(qx, name='Pauli channel')\n",
    "    rn = np.random.rand()\n",
    "    if rn < p:\n",
    "        qc.x(qx)\n",
    "    else:\n",
    "        if rn < 2*p:\n",
    "            qc.y(qx)\n",
    "        else:\n",
    "            if rn < 3*p:\n",
    "                qc.z(qx)\n",
    "    return qc"
   ]
  },
  {
   "cell_type": "markdown",
   "id": "a881dcb6",
   "metadata": {},
   "source": [
    "## The quantum Hamming code circuit\n",
    "\n",
    "The Hamming codes are a family of $[[2^r-1, 2^r-2r-1, 3]]$ quantum error-correcting codes, for $r = 3, 4, 5, \\dots$. They are self-dual perfect CSS codes. We fix $r=4$. So, we use $2^4-1=15$ physical qubits and $2^4-2(4)-1=7$ syndrome qubits (for error correction).\n",
    "\n",
    "The syndromes when placed as columns give us the stabilizer matrix. \n",
    "$$H=H_X=H_Z=\\begin{pmatrix}\n",
    "0 & 0 & 0 & 0 & 0 & 0 & 0 & 1 & 1 & 1 & 1 & 1 & 1 & 1 & 1 \\\\ \n",
    "0 & 0 & 0 & 1 & 1 & 1 & 1 & 0 & 0 & 0 & 0 & 1 & 1 & 1 & 1 \\\\\n",
    "0 & 1 & 1 & 0 & 0 & 1 & 1 & 0 & 0 & 1 & 1 & 0 & 0 & 1 & 1 \\\\ \n",
    "1 & 0 & 1 & 0 & 1 & 0 & 1 & 0 & 1 & 0 & 1 & 0 & 1 & 0 & 1\n",
    "\\end{pmatrix}\\ .$$\n",
    "\n",
    "The row reduced Echelon form of $H$ is given by \n",
    "$$H_r=\\begin{pmatrix}\n",
    "1 & 0 & 0 & 0 & 1 & 0 & 1 & 1 & 1 & 0 & 1 & 0 & 1 & 0 & 1 \\\\\n",
    "0 & 1 & 0 & 0 & 0 & 1 & 1 & 1 & 0 & 1 & 1 & 0 & 0 & 1 & 1 \\\\\n",
    "0 & 0 & 1 & 0 & 0 & 0 & 0 & 0 & 1 & 1 & 1 & 1 & 1 & 1 & 1 \\\\\n",
    "0 & 0 & 0 & 1 & 1 & 1 & 1 & 0 & 0 & 0 & 0 & 1 & 1 & 1 & 1\n",
    "\\end{pmatrix}\\ .$$\n",
    "This is obtained by row operations $R_4\\leftrightarrow R_1$, $R_2\\leftrightarrow R_1$, followed by column operations $C_3\\to C_8$, $C_8\\to C_4$, $C_4\\to C_3$.\n",
    "\n",
    "### Step 1 - Preparing logical zero state\n",
    "\n",
    "### Step 2 - Add Pauli channel\n",
    "\n",
    "### Step 3 - Measure syndromes\n",
    "\n",
    "### Step 4 - Correct the errors\n",
    "\n",
    "### Step 5 - Measure the final state"
   ]
  },
  {
   "cell_type": "code",
   "execution_count": 176,
   "id": "e8d04c14",
   "metadata": {},
   "outputs": [],
   "source": [
    "def qhc (p):\n",
    "    H = [[0,0,0,0,0,0,0,1,1,1,1,1,1,1,1], [0,0,0,1,1,1,1,0,0,0,0,1,1,1,1], # the stabilizer matrix H\n",
    "     [0,1,1,0,0,1,1,0,0,1,1,0,0,1,1], [1,0,1,0,1,0,1,0,1,0,1,0,1,0,1]] \n",
    "    Hr = [[1,0,0,0,1,0,1,1,1,0,1,0,1,0,1], [0,1,0,0,0,1,1,1,0,1,1,0,0,1,1], # H in row reduced echelon form\n",
    "      [0,0,1,0,0,0,0,0,1,1,1,1,1,1,1], [0,0,0,1,1,1,1,0,0,0,0,1,1,1,1]]\n",
    "    qreg = QuantumRegister(15)\n",
    "    aregx = AncillaRegister(4)\n",
    "    aregz = AncillaRegister(4)\n",
    "    creg = ClassicalRegister(15)\n",
    "    cregx = ClassicalRegister(4)\n",
    "    cregz = ClassicalRegister(4)\n",
    "    qc = QuantumCircuit(qreg, aregx, aregz, cregx, cregz, creg, name='QHC')\n",
    "    # Step 1 - perpare logical zero state\n",
    "    for i in range(4):\n",
    "        qc.h(qreg[i])\n",
    "        for j in range(4, 15):\n",
    "            if Hr[i][j]:\n",
    "                qc.cx(qreg[i], qreg[j])\n",
    "    qc.swap(qreg[2], qreg[7])\n",
    "    # Step 2 - add the Pauli channel\n",
    "    for i in range(15):\n",
    "        qc.compose(pauli_channel(p), qubits = qreg[i], inplace = True)\n",
    "    # Step 3a - find X syndromes \n",
    "    for i, row in enumerate(H):\n",
    "        for j, value in enumerate(row):\n",
    "            if value:\n",
    "                qc.cx(qreg[j], aregx[i])\n",
    "    # Step 3b - find Z syndromes\n",
    "    qc.h(aregz)\n",
    "    for i, row in enumerate(H):\n",
    "        for j, value in enumerate(row):\n",
    "            if value:\n",
    "                qc.cx(aregz[i], qreg[j])\n",
    "    qc.h(aregz)\n",
    "    # Measure the X and Z syndromes\n",
    "    qc.measure(aregx, cregx)\n",
    "    qc.measure(aregz, cregz)\n",
    "    # Step 4 - correct the X and Z syndromes\n",
    "    for i in range(15):\n",
    "        with qc.if_test((cregx, i+1)):\n",
    "            qc.x(qreg[i])\n",
    "        with qc.if_test((cregz, i+1)):\n",
    "            qc.z(qreg[i])\n",
    "    # Step 5 - measure the final state in the quantum register after error correction\n",
    "    qc.measure(qreg, creg)\n",
    "    return qc"
   ]
  },
  {
   "cell_type": "markdown",
   "id": "aaafb9bf",
   "metadata": {},
   "source": [
    "## Success probabilities\n",
    "\n",
    "The components of logical zero state can be obtained from a basis of the null-space of $H_r$."
   ]
  },
  {
   "cell_type": "code",
   "execution_count": 171,
   "id": "1742e79f",
   "metadata": {},
   "outputs": [],
   "source": [
    "def success_prob(p, rounds, sim_shots):\n",
    "    L0 = ['000000000000000', '000011111111000', '001100111100110', '001111000011110', # components of logical zero state\n",
    "      '010101011010101', '010110100101101', '011001100110011', '011010011001011', \n",
    "      '100101101001011', '100110010110011', '101001010101101', '101010101010101', \n",
    "      '110000110011110', '110011001100110', '111100001111000', '111111110000000']\n",
    "    simulator = AerSimulator()\n",
    "    successes = 0\n",
    "    for i in range(rounds):\n",
    "        compiled_circuit = transpile(qhc(p), simulator)\n",
    "        job = simulator.run(compiled_circuit, shots = sim_shots)\n",
    "        counts = job.result().get_counts()\n",
    "        for key in counts:\n",
    "            if key[:15] in L0:\n",
    "                successes += counts[key]\n",
    "    return successes/rounds"
   ]
  },
  {
   "cell_type": "markdown",
   "id": "d01df762",
   "metadata": {},
   "source": [
    "## Demonstration for a given number of rounds and shots per round"
   ]
  },
  {
   "cell_type": "code",
   "execution_count": null,
   "id": "8369114f",
   "metadata": {},
   "outputs": [
    {
     "name": "stdout",
     "output_type": "stream",
     "text": [
      "0.0 , 1.0\n",
      "0.033 , 0.5\n",
      "0.066 , 0.15\n",
      "0.099 , 0.06\n",
      "0.132 , 0.04\n",
      "0.165 , 0.0\n",
      "0.198 , 0.01\n",
      "0.231 , 0.0\n",
      "0.264 , 0.0\n",
      "0.29700000000000004 , 0.0\n",
      "0.33 , 0.0\n"
     ]
    }
   ],
   "source": [
    "x_values = np.linspace(0, 0.33, 11)\n",
    "y_values = []\n",
    "for p in x_values:\n",
    "    s = success_prob(p, 100, 1) # finding the success probability for 100 rounds with 1 shot per round\n",
    "    print(str(p) + ' , ' + str(s))\n",
    "    y_values.append(s)"
   ]
  },
  {
   "cell_type": "markdown",
   "id": "abb26030",
   "metadata": {},
   "source": [
    "## Visualizing success probability as a function of error rate"
   ]
  },
  {
   "cell_type": "code",
   "execution_count": 177,
   "id": "07c1514c",
   "metadata": {},
   "outputs": [
    {
     "data": {
      "image/png": "[encoded data removed]",
      "text/plain": [
       "<Figure size 1000x600 with 1 Axes>"
      ]
     },
     "metadata": {},
     "output_type": "display_data"
    }
   ],
   "source": [
    "plt.figure(figsize=(10,6))\n",
    "plt.plot(x_values, y_values, marker='o')\n",
    "plt.xlabel('Error rate')\n",
    "plt.ylabel('Success probability')\n",
    "plt.title('Success probability vs Error rate')\n",
    "plt.grid(True)\n",
    "plt.ylim(-0.2, 1.2)\n",
    "plt.show()"
   ]
  },
  {
   "cell_type": "code",
   "execution_count": null,
   "id": "8daa64ff",
   "metadata": {},
   "outputs": [],
   "source": []
  }
 ],
 "metadata": {
  "kernelspec": {
   "display_name": "base",
   "language": "python",
   "name": "python3"
  },
  "language_info": {
   "codemirror_mode": {
    "name": "ipython",
    "version": 3
   },
   "file_extension": ".py",
   "mimetype": "text/x-python",
   "name": "python",
   "nbconvert_exporter": "python",
   "pygments_lexer": "ipython3",
   "version": "3.11.5"
  }
 },
 "nbformat": 4,
 "nbformat_minor": 5
}
